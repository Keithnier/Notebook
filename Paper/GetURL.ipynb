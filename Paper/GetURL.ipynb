{
 "cells": [
  {
   "cell_type": "code",
   "execution_count": 11,
   "metadata": {
    "collapsed": true
   },
   "outputs": [],
   "source": [
    "import os\n",
    "import shelve"
   ]
  },
  {
   "cell_type": "markdown",
   "metadata": {},
   "source": [
    "**获取当前路径下的所有文件**"
   ]
  },
  {
   "cell_type": "code",
   "execution_count": 4,
   "metadata": {
    "collapsed": true
   },
   "outputs": [],
   "source": [
    "files = os.listdir('.')"
   ]
  },
  {
   "cell_type": "code",
   "execution_count": 5,
   "metadata": {},
   "outputs": [
    {
     "name": "stdout",
     "output_type": "stream",
     "text": [
      "['GetURL.ipynb', '2.txt', '1.txt', '.ipynb_checkpoints']\n"
     ]
    }
   ],
   "source": [
    "print(files)"
   ]
  },
  {
   "cell_type": "markdown",
   "metadata": {},
   "source": [
    "**读取所有txt文件，之前是把会议和期刊相关的论文网址保存在了两个txt文件中**"
   ]
  },
  {
   "cell_type": "code",
   "execution_count": 6,
   "metadata": {
    "collapsed": true
   },
   "outputs": [],
   "source": [
    "lines=[]"
   ]
  },
  {
   "cell_type": "code",
   "execution_count": 7,
   "metadata": {
    "collapsed": true
   },
   "outputs": [],
   "source": [
    "for file in files:\n",
    "    if file.endswith('txt'):\n",
    "        f = open(file)\n",
    "        lines += f.readlines()\n"
   ]
  },
  {
   "cell_type": "markdown",
   "metadata": {},
   "source": [
    "**strip(),消除/n和空格**"
   ]
  },
  {
   "cell_type": "code",
   "execution_count": 9,
   "metadata": {
    "collapsed": true
   },
   "outputs": [],
   "source": [
    "lines = [x.strip() for x in lines]"
   ]
  },
  {
   "cell_type": "code",
   "execution_count": 13,
   "metadata": {
    "collapsed": true
   },
   "outputs": [],
   "source": [
    "Urls=[x for x in lines if x.startswith('http')]"
   ]
  },
  {
   "cell_type": "code",
   "execution_count": 14,
   "metadata": {
    "scrolled": true
   },
   "outputs": [
    {
     "name": "stdout",
     "output_type": "stream",
     "text": [
      "['http://dblp.uni-trier.de/db/journals/tods/', 'http://dblp.uni-trier.de/db/journals/tois/', 'http://dblp.uni-trier.de/db/journals/tkde/', 'http://dblp.uni-trier.de/db/journals/vldb/', 'http://dblp.uni-trier.de/db/journals/tkdd/', 'http://dblp.uni-trier.de/db/journals/aei/', 'http://dblp.uni-trier.de/db/journals/dke/', 'http://dblp.uni-trier.de/db/journals/datamine/', 'http://dblp.uni-trier.de/db/journals/ejis/', 'http://dblp.uni-trier.de/db/journals/geoinformatica/', 'http://dblp.uni-trier.de/db/journals/ipm/', 'http://dblp.uni-trier.de/db/journals/isci/', 'http://dblp.uni-trier.de/db/journals/is/', 'http://dblp.uni-trier.de/db/journals/jasis/', 'http://dblp.uni-trier.de/db/journals/ws/', 'http://dblp.uni-trier.de/db/journals/kais/', 'http://dblp.uni-trier.de/db/journals/tweb/', 'http://dblp.uni-trier.de/db/journals/dpd/', 'http://dblp.uni-trier.de/db/journals/iam/', 'http://dblp.uni-trier.de/db/journals/ipl/', 'http://dblp.uni-trier.de/db/journals/ir/', 'http://dblp.uni-trier.de/db/journals/ijcis/', 'http://dblp.uni-trier.de/db/journals/gis/', 'http://dblp.uni-trier.de/db/journals/ijis/', 'http://dblp.uni-trier.de/db/journals/ijkm/', 'http://dblp.uni-trier.de/db/journals/ijswis/', 'http://dblp.uni-trier.de/db/journals/jcis/', 'http://dblp.uni-trier.de/db/journals/jdm/', 'http://www.tandfonline.com/loi/ugit20#.Vnv35pN97rI', 'http://dblp.uni-trier.de/db/journals/jiis/', 'http://dblp.uni-trier.de/db/journals/jsis/', 'http://dblp.uni-trier.de/db/conf/sigmod/', 'http://dblp.uni-trier.de/db/conf/kdd/', 'http://dblp.uni-trier.de/db/conf/sigir/', 'http://dblp.uni-trier.de/db/conf/vldb/', 'http://dblp.uni-trier.de/db/conf/icde/', 'http://dblp.uni-trier.de/db/conf/cikm/', 'http://dblp.uni-trier.de/db/conf/pods/', 'http://dblp.uni-trier.de/db/conf/dasfaa/', 'http://dblp.uni-trier.de/db/conf/ecml/', 'http://dblp.uni-trier.de/db/conf/pkdd/', 'http://dblp.uni-trier.de/db/conf/semweb/', 'http://dblp.uni-trier.de/db/conf/icdm/', 'http://dblp.uni-trier.de/db/conf/icdt/', 'http://dblp.uni-trier.de/db/conf/edbt/', 'http://dblp.uni-trier.de/db/conf/cidr/', 'http://dblp.uni-trier.de/db/conf/sdm/', 'http://dblp.uni-trier.de/db/conf/wsdm/', 'http://dblp.uni-trier.de/db/conf/dexa/', 'http://dblp.uni-trier.de/db/conf/ecir/', 'http://dblp.uni-trier.de/db/conf/webdb/', 'http://dblp.uni-trier.de/db/conf/er/', 'http://dblp.uni-trier.de/db/conf/mdm/', 'http://dblp.uni-trier.de/db/conf/ssdbm/', 'http://dblp.uni-trier.de/db/conf/waim/', 'http://dblp.uni-trier.de/db/conf/ssd/', 'http://dblp.uni-trier.de/db/conf/pakdd/', 'http://dblp.uni-trier.de/db/conf/apweb/', 'http://dblp.uni-trier.de/db/conf/wise/', 'http://dblp.uni-trier.de/db/conf/esws/']\n"
     ]
    }
   ],
   "source": [
    "print(Urls)"
   ]
  },
  {
   "cell_type": "markdown",
   "metadata": {},
   "source": [
    "**shelve，存一下URL**"
   ]
  },
  {
   "cell_type": "code",
   "execution_count": 16,
   "metadata": {
    "collapsed": true
   },
   "outputs": [],
   "source": [
    "shelfFile = shelve.open('urls')"
   ]
  },
  {
   "cell_type": "code",
   "execution_count": 17,
   "metadata": {
    "collapsed": true
   },
   "outputs": [],
   "source": [
    "shelfFile['urls'] = Urls"
   ]
  },
  {
   "cell_type": "code",
   "execution_count": 18,
   "metadata": {
    "collapsed": true
   },
   "outputs": [],
   "source": [
    "shelfFile.close()"
   ]
  },
  {
   "cell_type": "code",
   "execution_count": null,
   "metadata": {
    "collapsed": true
   },
   "outputs": [],
   "source": []
  }
 ],
 "metadata": {
  "kernelspec": {
   "display_name": "Python 3",
   "language": "python",
   "name": "python3"
  },
  "language_info": {
   "codemirror_mode": {
    "name": "ipython",
    "version": 3
   },
   "file_extension": ".py",
   "mimetype": "text/x-python",
   "name": "python",
   "nbconvert_exporter": "python",
   "pygments_lexer": "ipython3",
   "version": "3.6.1"
  }
 },
 "nbformat": 4,
 "nbformat_minor": 2
}
