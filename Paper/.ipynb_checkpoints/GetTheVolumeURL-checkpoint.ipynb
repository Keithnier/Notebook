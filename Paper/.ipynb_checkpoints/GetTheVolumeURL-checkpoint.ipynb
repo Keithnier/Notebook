{
 "cells": [
  {
   "cell_type": "code",
   "execution_count": 1,
   "metadata": {
    "collapsed": true
   },
   "outputs": [],
   "source": [
    "import os\n",
    "import shelve\n",
    "import requests\n",
    "import bs4"
   ]
  },
  {
   "cell_type": "code",
   "execution_count": 42,
   "metadata": {},
   "outputs": [],
   "source": [
    "shelveFile = shelve.open('urls')"
   ]
  },
  {
   "cell_type": "code",
   "execution_count": 43,
   "metadata": {
    "collapsed": true
   },
   "outputs": [],
   "source": [
    "urls = shelveFile['urls']"
   ]
  },
  {
   "cell_type": "code",
   "execution_count": 51,
   "metadata": {},
   "outputs": [
    {
     "name": "stdout",
     "output_type": "stream",
     "text": [
      "['http://dblp.uni-trier.de/db/journals/tods/', 'http://dblp.uni-trier.de/db/journals/tois/', 'http://dblp.uni-trier.de/db/journals/tkde/', 'http://dblp.uni-trier.de/db/journals/vldb/', 'http://dblp.uni-trier.de/db/journals/tkdd/', 'http://dblp.uni-trier.de/db/journals/aei/', 'http://dblp.uni-trier.de/db/journals/dke/', 'http://dblp.uni-trier.de/db/journals/datamine/', 'http://dblp.uni-trier.de/db/journals/ejis/', 'http://dblp.uni-trier.de/db/journals/geoinformatica/', 'http://dblp.uni-trier.de/db/journals/ipm/', 'http://dblp.uni-trier.de/db/journals/isci/', 'http://dblp.uni-trier.de/db/journals/is/', 'http://dblp.uni-trier.de/db/journals/jasis/', 'http://dblp.uni-trier.de/db/journals/ws/', 'http://dblp.uni-trier.de/db/journals/kais/', 'http://dblp.uni-trier.de/db/journals/tweb/', 'http://dblp.uni-trier.de/db/journals/dpd/', 'http://dblp.uni-trier.de/db/journals/iam/', 'http://dblp.uni-trier.de/db/journals/ipl/', 'http://dblp.uni-trier.de/db/journals/ir/', 'http://dblp.uni-trier.de/db/journals/ijcis/', 'http://dblp.uni-trier.de/db/journals/gis/', 'http://dblp.uni-trier.de/db/journals/ijis/', 'http://dblp.uni-trier.de/db/journals/ijkm/', 'http://dblp.uni-trier.de/db/journals/ijswis/', 'http://dblp.uni-trier.de/db/journals/jcis/', 'http://dblp.uni-trier.de/db/journals/jdm/', 'http://www.tandfonline.com/loi/ugit20#.Vnv35pN97rI', 'http://dblp.uni-trier.de/db/journals/jiis/', 'http://dblp.uni-trier.de/db/journals/jsis/', 'http://dblp.uni-trier.de/db/conf/sigmod/', 'http://dblp.uni-trier.de/db/conf/kdd/', 'http://dblp.uni-trier.de/db/conf/sigir/', 'http://dblp.uni-trier.de/db/conf/vldb/', 'http://dblp.uni-trier.de/db/conf/icde/', 'http://dblp.uni-trier.de/db/conf/cikm/', 'http://dblp.uni-trier.de/db/conf/pods/', 'http://dblp.uni-trier.de/db/conf/dasfaa/', 'http://dblp.uni-trier.de/db/conf/ecml/', 'http://dblp.uni-trier.de/db/conf/pkdd/', 'http://dblp.uni-trier.de/db/conf/semweb/', 'http://dblp.uni-trier.de/db/conf/icdm/', 'http://dblp.uni-trier.de/db/conf/icdt/', 'http://dblp.uni-trier.de/db/conf/edbt/', 'http://dblp.uni-trier.de/db/conf/cidr/', 'http://dblp.uni-trier.de/db/conf/sdm/', 'http://dblp.uni-trier.de/db/conf/wsdm/', 'http://dblp.uni-trier.de/db/conf/dexa/', 'http://dblp.uni-trier.de/db/conf/ecir/', 'http://dblp.uni-trier.de/db/conf/webdb/', 'http://dblp.uni-trier.de/db/conf/er/', 'http://dblp.uni-trier.de/db/conf/mdm/', 'http://dblp.uni-trier.de/db/conf/ssdbm/', 'http://dblp.uni-trier.de/db/conf/waim/', 'http://dblp.uni-trier.de/db/conf/ssd/', 'http://dblp.uni-trier.de/db/conf/pakdd/', 'http://dblp.uni-trier.de/db/conf/apweb/', 'http://dblp.uni-trier.de/db/conf/wise/', 'http://dblp.uni-trier.de/db/conf/esws/']\n"
     ]
    }
   ],
   "source": [
    "print(urls)"
   ]
  },
  {
   "cell_type": "code",
   "execution_count": 52,
   "metadata": {
    "collapsed": true
   },
   "outputs": [],
   "source": [
    "n = 0\n",
    "volsUrl={}"
   ]
  },
  {
   "cell_type": "code",
   "execution_count": 53,
   "metadata": {},
   "outputs": [
    {
     "ename": "IndexError",
     "evalue": "list index out of range",
     "output_type": "error",
     "traceback": [
      "\u001b[0;31m---------------------------------------------------------------------------\u001b[0m",
      "\u001b[0;31mIndexError\u001b[0m                                Traceback (most recent call last)",
      "\u001b[0;32m<ipython-input-53-608dc5b2bfd0>\u001b[0m in \u001b[0;36m<module>\u001b[0;34m()\u001b[0m\n\u001b[1;32m     12\u001b[0m     \u001b[0mvurls\u001b[0m \u001b[0;34m=\u001b[0m \u001b[0;34m[\u001b[0m\u001b[0;34m]\u001b[0m\u001b[0;34m\u001b[0m\u001b[0m\n\u001b[1;32m     13\u001b[0m     \u001b[0;32mfor\u001b[0m \u001b[0mvurlElement\u001b[0m \u001b[0;32min\u001b[0m \u001b[0mvolumeUrls\u001b[0m\u001b[0;34m:\u001b[0m\u001b[0;34m\u001b[0m\u001b[0m\n\u001b[0;32m---> 14\u001b[0;31m         \u001b[0mvurl\u001b[0m \u001b[0;34m=\u001b[0m \u001b[0mvurlElement\u001b[0m\u001b[0;34m.\u001b[0m\u001b[0mselect\u001b[0m\u001b[0;34m(\u001b[0m\u001b[0;34m'a'\u001b[0m\u001b[0;34m)\u001b[0m\u001b[0;34m[\u001b[0m\u001b[0;36m0\u001b[0m\u001b[0;34m]\u001b[0m\u001b[0;34m.\u001b[0m\u001b[0mget\u001b[0m\u001b[0;34m(\u001b[0m\u001b[0;34m'href'\u001b[0m\u001b[0;34m)\u001b[0m\u001b[0;34m\u001b[0m\u001b[0m\n\u001b[0m\u001b[1;32m     15\u001b[0m         \u001b[0mvurls\u001b[0m\u001b[0;34m.\u001b[0m\u001b[0mappend\u001b[0m\u001b[0;34m(\u001b[0m\u001b[0mvurl\u001b[0m\u001b[0;34m)\u001b[0m\u001b[0;34m\u001b[0m\u001b[0m\n\u001b[1;32m     16\u001b[0m     \u001b[0mvolsUrl\u001b[0m\u001b[0;34m[\u001b[0m\u001b[0mtitle\u001b[0m\u001b[0;34m]\u001b[0m \u001b[0;34m=\u001b[0m \u001b[0mvurls\u001b[0m\u001b[0;34m\u001b[0m\u001b[0m\n",
      "\u001b[0;31mIndexError\u001b[0m: list index out of range"
     ]
    }
   ],
   "source": [
    "for url in urls:\n",
    "    if url.startswith('http://www'): \n",
    "        continue\n",
    "    res = requests.get(url)\n",
    "    soup1 = bs4.BeautifulSoup(res.text, 'lxml')\n",
    "    elems = soup1.select('div[id=\"main\"] > p')\n",
    "    if len(elems) == 2:\n",
    "        title = elems[1].getText()\n",
    "    else:\n",
    "        title = elems[0].getText()\n",
    "    volumeUrls = soup1.select('div[id=\"main\"] > ul > li')\n",
    "    vurls = []\n",
    "    for vurlElement in volumeUrls:\n",
    "        if len(vurlElement.select('a')) > 0:\n",
    "            vurl = vurlElement.select('a')[0].get('href')\n",
    "            vurls.append(vurl)\n",
    "    volsUrl[title] = vurls"
   ]
  },
  {
   "cell_type": "code",
   "execution_count": 63,
   "metadata": {},
   "outputs": [],
   "source": [
    "soup1 = bs4.BeautifulSoup(res.text, 'lxml')"
   ]
  },
  {
   "cell_type": "code",
   "execution_count": 64,
   "metadata": {
    "collapsed": true
   },
   "outputs": [],
   "source": [
    "elems = soup1.select('div[id=\"main\"] > p')"
   ]
  },
  {
   "cell_type": "code",
   "execution_count": 65,
   "metadata": {},
   "outputs": [
    {
     "data": {
      "text/plain": [
       "2"
      ]
     },
     "execution_count": 65,
     "metadata": {},
     "output_type": "execute_result"
    }
   ],
   "source": [
    "len(elems)"
   ]
  },
  {
   "cell_type": "code",
   "execution_count": 66,
   "metadata": {},
   "outputs": [
    {
     "name": "stdout",
     "output_type": "stream",
     "text": [
      "JASIST @ Wiley\n"
     ]
    }
   ],
   "source": [
    "print(elems[0].getText())"
   ]
  },
  {
   "cell_type": "code",
   "execution_count": 67,
   "metadata": {
    "collapsed": true
   },
   "outputs": [],
   "source": [
    "urls = soup1.select('div[id=\"main\"] > ul > li')"
   ]
  },
  {
   "cell_type": "code",
   "execution_count": 68,
   "metadata": {},
   "outputs": [
    {
     "data": {
      "text/plain": [
       "49"
      ]
     },
     "execution_count": 68,
     "metadata": {},
     "output_type": "execute_result"
    }
   ],
   "source": [
    "len(urls)"
   ]
  },
  {
   "cell_type": "code",
   "execution_count": 69,
   "metadata": {},
   "outputs": [],
   "source": [
    "url = urls[0]"
   ]
  },
  {
   "cell_type": "code",
   "execution_count": 70,
   "metadata": {},
   "outputs": [
    {
     "name": "stdout",
     "output_type": "stream",
     "text": [
      "http://dblp.uni-trier.de/db/journals/jasis/jasis69.html\n"
     ]
    }
   ],
   "source": [
    "print(url.select('a')[0].get('href'))"
   ]
  },
  {
   "cell_type": "code",
   "execution_count": null,
   "metadata": {
    "collapsed": true
   },
   "outputs": [],
   "source": []
  }
 ],
 "metadata": {
  "kernelspec": {
   "display_name": "Python 3",
   "language": "python",
   "name": "python3"
  },
  "language_info": {
   "codemirror_mode": {
    "name": "ipython",
    "version": 3
   },
   "file_extension": ".py",
   "mimetype": "text/x-python",
   "name": "python",
   "nbconvert_exporter": "python",
   "pygments_lexer": "ipython3",
   "version": "3.6.1"
  }
 },
 "nbformat": 4,
 "nbformat_minor": 2
}
