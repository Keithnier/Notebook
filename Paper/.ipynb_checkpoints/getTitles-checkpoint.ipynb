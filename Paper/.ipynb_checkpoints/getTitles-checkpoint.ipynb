{
 "cells": [
  {
   "cell_type": "code",
   "execution_count": 1,
   "metadata": {
    "collapsed": true
   },
   "outputs": [],
   "source": [
    "import os\n",
    "import shelve\n",
    "import requests\n",
    "import bs4"
   ]
  },
  {
   "cell_type": "code",
   "execution_count": 2,
   "metadata": {
    "collapsed": true
   },
   "outputs": [],
   "source": [
    "shelveFile = shelve.open('urls')"
   ]
  },
  {
   "cell_type": "code",
   "execution_count": 22,
   "metadata": {
    "collapsed": true
   },
   "outputs": [],
   "source": [
    "volUrls = shelveFile['volUrl']\n",
    "titleFile = open('title.txt', 'a')"
   ]
  },
  {
   "cell_type": "code",
   "execution_count": 23,
   "metadata": {},
   "outputs": [
    {
     "name": "stdout",
     "output_type": "stream",
     "text": [
      "{'ACM / SIGMOD': ['http://dblp.uni-trier.de/db/journals/tods/tods42.html', 'http://dblp.uni-trier.de/db/journals/tods/tods41.html', 'http://dblp.uni-trier.de/db/journals/tods/tods40.html', 'http://dblp.uni-trier.de/db/journals/tods/tods39.html'], 'TOIS Home Page': ['http://dblp.uni-trier.de/db/journals/tois/tois36.html', 'http://dblp.uni-trier.de/db/journals/tois/tois35.html', 'http://dblp.uni-trier.de/db/journals/tois/tois34.html', 'http://dblp.uni-trier.de/db/journals/tois/tois33.html'], 'TKDE @ Xplore': ['http://dblp.uni-trier.de/db/journals/tkde/tkde30.html', 'http://dblp.uni-trier.de/db/journals/tkde/tkde29.html', 'http://dblp.uni-trier.de/db/journals/tkde/tkde28.html', 'http://dblp.uni-trier.de/db/journals/tkde/tkde27.html'], 'VLDB Journal @ SpringerLink\\nVLDB Journal @ ACM DL\\nVLDB Endowment': ['http://dblp.uni-trier.de/db/journals/vldb/vldb27.html', 'http://dblp.uni-trier.de/db/journals/vldb/vldb26.html', 'http://dblp.uni-trier.de/db/journals/vldb/vldb25.html', 'http://dblp.uni-trier.de/db/journals/vldb/vldb24.html'], 'TKDD @ ACM DL': ['http://dblp.uni-trier.de/db/journals/tkdd/tkdd12.html', 'http://dblp.uni-trier.de/db/journals/tkdd/tkdd11.html', 'http://dblp.uni-trier.de/db/journals/tkdd/tkdd10.html', 'http://dblp.uni-trier.de/db/journals/tkdd/tkdd9.html'], 'Artificial Intelligence in Engineering @ ScienceDirect': ['http://dblp.uni-trier.de/db/journals/aei/aei35.html', 'http://dblp.uni-trier.de/db/journals/aei/aei31.html', 'http://dblp.uni-trier.de/db/journals/aei/aei30.html', 'http://dblp.uni-trier.de/db/journals/aei/aei29.html'], 'DKE @ ScienceDirect': ['http://dblp.uni-trier.de/db/journals/dke/dke113.html', 'http://dblp.uni-trier.de/db/journals/dke/dke108.html', 'http://dblp.uni-trier.de/db/journals/dke/dke101.html', 'http://dblp.uni-trier.de/db/journals/dke/dke95.html'], 'Data Mining and Knowledge Discovery @ SpringerLink': ['http://dblp.uni-trier.de/db/journals/datamine/datamine32.html', 'http://dblp.uni-trier.de/db/journals/datamine/datamine31.html', 'http://dblp.uni-trier.de/db/journals/datamine/datamine30.html', 'http://dblp.uni-trier.de/db/journals/datamine/datamine29.html'], 'EJIS @ SpringerLink (Palgrave Macmillan)': ['http://dblp.uni-trier.de/db/journals/ejis/ejis26.html', 'http://dblp.uni-trier.de/db/journals/ejis/ejis25.html', 'http://dblp.uni-trier.de/db/journals/ejis/ejis24.html', 'http://dblp.uni-trier.de/db/journals/ejis/ejis23.html'], 'GeoInformatica @ SpringerLink': ['http://dblp.uni-trier.de/db/journals/geoinformatica/geoinformatica22.html', 'http://dblp.uni-trier.de/db/journals/geoinformatica/geoinformatica21.html', 'http://dblp.uni-trier.de/db/journals/geoinformatica/geoinformatica20.html', 'http://dblp.uni-trier.de/db/journals/geoinformatica/geoinformatica19.html'], 'ISR @ ScienceDirect': ['http://dblp.uni-trier.de/db/journals/ipm/ipm54.html', 'http://dblp.uni-trier.de/db/journals/ipm/ipm53.html', 'http://dblp.uni-trier.de/db/journals/ipm/ipm52.html', 'http://dblp.uni-trier.de/db/journals/ipm/ipm51.html'], 'Information Sciences @ ScienceDirect': ['http://dblp.uni-trier.de/db/journals/isci/isci422.html', 'http://dblp.uni-trier.de/db/journals/isci/isci375.html', 'http://dblp.uni-trier.de/db/journals/isci/isci326.html', 'http://dblp.uni-trier.de/db/journals/isci/isci290.html'], 'IS @ ScienceDirect': ['http://dblp.uni-trier.de/db/journals/is/is73.html', 'http://dblp.uni-trier.de/db/journals/is/is63.html', 'http://dblp.uni-trier.de/db/journals/is/is55.html', 'http://dblp.uni-trier.de/db/journals/is/is47.html'], 'Association for Information Science and Technology (asis&t)': ['http://dblp.uni-trier.de/db/journals/jasis/jasis69.html', 'http://dblp.uni-trier.de/db/journals/jasis/jasis68.html', 'http://dblp.uni-trier.de/db/journals/jasis/jasis67.html', 'http://dblp.uni-trier.de/db/journals/jasis/jasis66.html'], 'Journal of Web Semantics @ ScienceDirect': ['http://dblp.uni-trier.de/db/journals/ws/ws42.html', 'http://dblp.uni-trier.de/db/journals/ws/ws36.html', 'http://dblp.uni-trier.de/db/journals/ws/ws30.html', 'http://dblp.uni-trier.de/db/journals/ws/ws24.html'], 'KAIS @ SpringerLink': ['http://dblp.uni-trier.de/db/journals/kais/kais54.html', 'http://dblp.uni-trier.de/db/journals/kais/kais50.html', 'http://dblp.uni-trier.de/db/journals/kais/kais46.html', 'http://dblp.uni-trier.de/db/journals/kais/kais42.html'], 'TWEB @ ACM DL': ['http://dblp.uni-trier.de/db/journals/tweb/tweb12.html', 'http://dblp.uni-trier.de/db/journals/tweb/tweb11.html', 'http://dblp.uni-trier.de/db/journals/tweb/tweb10.html', 'http://dblp.uni-trier.de/db/journals/tweb/tweb9.html'], 'Editors-in-Chief: Amit P. Sheth, Divyakant Agrawal': ['http://dblp.uni-trier.de/db/journals/dpd/dpd36.html', 'http://dblp.uni-trier.de/db/journals/dpd/dpd35.html', 'http://dblp.uni-trier.de/db/journals/dpd/dpd34.html', 'http://dblp.uni-trier.de/db/journals/dpd/dpd33.html'], 'Information & Management @ ScienceDirect': ['http://dblp.uni-trier.de/db/journals/iam/iam55.html', 'http://dblp.uni-trier.de/db/journals/iam/iam54.html', 'http://dblp.uni-trier.de/db/journals/iam/iam53.html', 'http://dblp.uni-trier.de/db/journals/iam/iam52.html'], '\\nIPL Home Page\\nIPL @ ScienceDirect\\n': ['http://dblp.uni-trier.de/db/journals/ipl/ipl129.html', 'http://dblp.uni-trier.de/db/journals/ipl/ipl117.html', 'http://dblp.uni-trier.de/db/journals/ipl/ipl116.html', 'http://dblp.uni-trier.de/db/journals/ipl/ipl115.html'], 'Information Retrieval Journal @ SpringerLink': ['http://dblp.uni-trier.de/db/journals/ir/ir21.html', 'http://dblp.uni-trier.de/db/journals/ir/ir20.html', 'http://dblp.uni-trier.de/db/journals/ir/ir19.html', 'http://dblp.uni-trier.de/db/journals/ir/ir18.html'], 'IJCIS @ World Scientific': ['http://dblp.uni-trier.de/db/journals/ijcis/ijcis26.html', 'http://dblp.uni-trier.de/db/journals/ijcis/ijcis25.html', 'http://dblp.uni-trier.de/db/journals/ijcis/ijcis24.html', 'http://dblp.uni-trier.de/db/journals/ijcis/ijcis23.html'], 'IJGIS Home Page': ['http://dblp.uni-trier.de/db/journals/gis/gis32.html', 'http://dblp.uni-trier.de/db/journals/gis/gis31.html', 'http://dblp.uni-trier.de/db/journals/gis/gis30.html', 'http://dblp.uni-trier.de/db/journals/gis/gis29.html'], 'IJIS @ Wiley': ['http://dblp.uni-trier.de/db/journals/ijis/ijis33.html', 'http://dblp.uni-trier.de/db/journals/ijis/ijis32.html', 'http://dblp.uni-trier.de/db/journals/ijis/ijis31.html', 'http://dblp.uni-trier.de/db/journals/ijis/ijis30.html'], 'IJKM @ IGI Global': ['http://dblp.uni-trier.de/db/journals/ijkm/ijkm14.html', 'http://dblp.uni-trier.de/db/journals/ijkm/ijkm13.html', 'http://dblp.uni-trier.de/db/journals/ijkm/ijkm12.html', 'http://dblp.uni-trier.de/db/journals/ijkm/ijkm11.html'], 'IJSWIS @ IGI Global': ['http://dblp.uni-trier.de/db/journals/ijswis/ijswis14.html', 'http://dblp.uni-trier.de/db/journals/ijswis/ijswis13.html', 'http://dblp.uni-trier.de/db/journals/ijswis/ijswis12.html', 'http://dblp.uni-trier.de/db/journals/ijswis/ijswis11.html'], 'JCIS Home Page': [], 'Editor-in-chief: Keng Siau': ['http://dblp.uni-trier.de/db/journals/jdm/jdm28.html', 'http://dblp.uni-trier.de/db/journals/jdm/jdm27.html', 'http://dblp.uni-trier.de/db/journals/jdm/jdm26.html', 'http://dblp.uni-trier.de/db/journals/jdm/jdm25.html'], 'JIIS @ SpringerLink': ['http://dblp.uni-trier.de/db/journals/jiis/jiis50.html', 'http://dblp.uni-trier.de/db/journals/jiis/jiis48.html', 'http://dblp.uni-trier.de/db/journals/jiis/jiis46.html', 'http://dblp.uni-trier.de/db/journals/jiis/jiis44.html'], 'J. of Strategic Information Systems @ ScienceDirect': ['http://dblp.uni-trier.de/db/journals/jsis/jsis26.html', 'http://dblp.uni-trier.de/db/journals/jsis/jsis25.html', 'http://dblp.uni-trier.de/db/journals/jsis/jsis24.html', 'http://dblp.uni-trier.de/db/journals/jsis/jsis23.html'], 'ACM SIGMOD\\nSIGMOD Conference PC Chairs': ['http://dblp.uni-trier.de/db/conf/sigmod/sigmod2017.html', 'http://dblp.uni-trier.de/db/conf/sigmod/beyondmr2017.html', 'http://dblp.uni-trier.de/db/conf/sigmod/dsmm2017.html', 'http://dblp.uni-trier.de/db/conf/sigmod/hilda2017.html'], '\\nACM SIGKDD\\nKnowledge Discovery Mine\\n': ['http://dblp.uni-trier.de/db/conf/kdd/kdd2017.html', 'http://dblp.uni-trier.de/db/conf/kdd/adkdd2017.html', 'http://dblp.uni-trier.de/db/conf/kdd/kdd2016.html', 'http://dblp.uni-trier.de/db/conf/kdd/bigmine2016.html'], 'sigir.org': ['http://dblp.uni-trier.de/db/conf/sigir/sigir2017.html', 'http://dblp.uni-trier.de/db/conf/sigir/birndl2017.html', 'http://dblp.uni-trier.de/db/conf/sigir/birndl2017-2.html', 'http://dblp.uni-trier.de/db/conf/sigir/kg4ir2017.html'], 'The VLDB Conferences constitute one of the most eminent venues for the timely\\ndissemination of research and development results in the field of database management.\\nThis series is perhaps the most international (in terms of participation, technical content, organization, and location) among all comparable events.': ['http://dblp.uni-trier.de/db/conf/vldb/phd2017.html', 'http://dblp.uni-trier.de/db/conf/vldb/dmah2017.html', 'http://dblp.uni-trier.de/db/conf/vldb/mates2017.html', 'http://dblp.uni-trier.de/db/conf/vldb/phd2016.html'], 'IEEE Computer Society': ['http://dblp.uni-trier.de/db/conf/icde/icde2017.html', 'http://dblp.uni-trier.de/db/conf/icde/icde2016.html', 'http://dblp.uni-trier.de/db/conf/icde/icdew2016.html', 'http://dblp.uni-trier.de/db/conf/icde/icde2015.html'], 'CIKM Home Page': ['http://dblp.uni-trier.de/db/conf/cikm/cikm2017.html', 'http://dblp.uni-trier.de/db/conf/cikm/cikm2016.html', 'http://dblp.uni-trier.de/db/conf/cikm/cybersafety2016.html', 'http://dblp.uni-trier.de/db/conf/cikm/fm4m2016.html'], 'ACM SIGMOD\\nThe PODS Pages': ['http://dblp.uni-trier.de/db/conf/pods/pods2017.html', 'http://dblp.uni-trier.de/db/conf/pods/pods2016.html', 'http://dblp.uni-trier.de/db/conf/pods/pods2015.html', 'http://dblp.uni-trier.de/db/conf/pods/pods2014.html'], 'www.dasfaa.org': ['http://dblp.uni-trier.de/db/conf/dasfaa/dasfaa2017-1.html', 'http://dblp.uni-trier.de/db/conf/dasfaa/dasfaa2017-2.html', 'http://dblp.uni-trier.de/db/conf/dasfaa/dasfaa2017w.html', 'http://dblp.uni-trier.de/db/conf/dasfaa/dasfaa2016-1.html'], 'ECML/PKDD 2013 Home Page': ['http://dblp.uni-trier.de/db/conf/pkdd/pkdd2017-1.html', 'http://dblp.uni-trier.de/db/conf/pkdd/pkdd2017-2.html', 'http://dblp.uni-trier.de/db/conf/pkdd/pkdd2017-3.html', 'http://dblp.uni-trier.de/db/conf/pkdd/ial2017.html'], 'SemanticWeb.org': ['http://dblp.uni-trier.de/db/conf/semweb/iswc2017-1.html', 'http://dblp.uni-trier.de/db/conf/semweb/iswc2017-2.html', 'http://dblp.uni-trier.de/db/conf/semweb/iswc2017p.html', 'http://dblp.uni-trier.de/db/conf/semweb/dc2017.html'], 'ICDM Home Page': ['http://dblp.uni-trier.de/db/conf/icdm/icdm2017.html', 'http://dblp.uni-trier.de/db/conf/icdm/icdm2017w.html', 'http://dblp.uni-trier.de/db/conf/icdm/icdm2016.html', 'http://dblp.uni-trier.de/db/conf/icdm/icdm2016w.html'], 'ICDT Council': ['http://dblp.uni-trier.de/db/conf/icdt/icdt2018.html', 'http://dblp.uni-trier.de/db/conf/icdt/icdt2017.html', 'http://dblp.uni-trier.de/db/conf/edbt/edbtw2017.html', 'http://dblp.uni-trier.de/db/conf/icdt/icdt2016.html'], 'EDBT Foundation Home Page': ['http://dblp.uni-trier.de/db/conf/edbt/edbt2018.html', 'http://dblp.uni-trier.de/db/conf/edbt/edbt2017.html', 'http://dblp.uni-trier.de/db/conf/edbt/edbtw2017.html', 'http://dblp.uni-trier.de/db/conf/edbt/edbt2016.html'], 'CIDR Home Page': ['http://dblp.uni-trier.de/db/conf/cidr/cidr2017.html', 'http://dblp.uni-trier.de/db/conf/cidr/cidr2015.html', 'http://dblp.uni-trier.de/db/conf/cidr/cidr2013.html', 'http://dblp.uni-trier.de/db/conf/cidr/cidr2011.html'], 'SDM 2017 Home Page': ['http://dblp.uni-trier.de/db/conf/sdm/sdm2017.html', 'http://dblp.uni-trier.de/db/conf/sdm/sdm2016.html', 'http://dblp.uni-trier.de/db/conf/sdm/sdm2015.html', 'http://dblp.uni-trier.de/db/conf/sdm/sdm2014.html'], 'WSDM 2009 Home Page': ['http://dblp.uni-trier.de/db/conf/wsdm/wsdm2018.html', 'http://dblp.uni-trier.de/db/conf/wsdm/wsdm2017.html', 'http://dblp.uni-trier.de/db/conf/wsdm/wsdm2016.html', 'http://dblp.uni-trier.de/db/conf/wsdm/wsdm2015.html'], 'DEXA Home Page': ['http://dblp.uni-trier.de/db/conf/dexa/dexa2017-1.html', 'http://dblp.uni-trier.de/db/conf/dexa/dexa2017-2.html', 'http://dblp.uni-trier.de/db/conf/dexaw/dexaw2017.html', 'http://dblp.uni-trier.de/db/conf/dexa/dexa2016-1.html'], 'British Computer Society - Information Retrieval Specialist Group (BCS-IRSG)': ['http://dblp.uni-trier.de/db/conf/ecir/ecir2017.html', 'http://dblp.uni-trier.de/db/conf/ecir/bir2017.html', 'http://dblp.uni-trier.de/db/conf/ecir/smerp2017.html', 'http://dblp.uni-trier.de/db/conf/ecir/somepeas2017.html'], 'WebDB 2013 Home Page': ['http://dblp.uni-trier.de/db/conf/webdb/webdb2017.html', 'http://dblp.uni-trier.de/db/conf/webdb/webdb2016.html', 'http://dblp.uni-trier.de/db/conf/webdb/webdb2015.html', 'http://dblp.uni-trier.de/db/conf/webdb/webdb2013.html'], 'ER Home Page': ['http://dblp.uni-trier.de/db/conf/er/er2017.html', 'http://dblp.uni-trier.de/db/conf/er/erw2017.html', 'http://dblp.uni-trier.de/db/conf/er/erf2017.html', 'http://dblp.uni-trier.de/db/conf/er/scme2017.html'], 'MDM 2008 Home Page': ['http://dblp.uni-trier.de/db/conf/mdm/mdm2017.html', 'http://dblp.uni-trier.de/db/conf/mdm/mdm2016.html', 'http://dblp.uni-trier.de/db/conf/mdm/mdm2016w.html', 'http://dblp.uni-trier.de/db/conf/mdm/mdm2015-1.html'], 'SSDBM Home Page': ['http://dblp.uni-trier.de/db/conf/ssdbm/ssdbm2017.html', 'http://dblp.uni-trier.de/db/conf/ssdbm/ssdbm2016.html', 'http://dblp.uni-trier.de/db/conf/ssdbm/ssdbm2015.html', 'http://dblp.uni-trier.de/db/conf/ssdbm/ssdbm2014.html'], 'WAIM 2003 Home Page': ['http://dblp.uni-trier.de/db/conf/apweb/apweb2017-1.html', 'http://dblp.uni-trier.de/db/conf/apweb/apweb2017-2.html', 'http://dblp.uni-trier.de/db/conf/apweb/apweb2017w.html', 'http://dblp.uni-trier.de/db/conf/waim/waim2016-1.html'], 'SSTD 2013 Home Page': ['http://dblp.uni-trier.de/db/conf/ssd/sstd2017.html', 'http://dblp.uni-trier.de/db/conf/ssd/sstd2015.html', 'http://dblp.uni-trier.de/db/conf/ssd/sstd2013.html', 'http://dblp.uni-trier.de/db/conf/ssd/sstd2011.html'], 'PAKDD 2010 Home Page': ['http://dblp.uni-trier.de/db/conf/pakdd/pakdd2017-1.html', 'http://dblp.uni-trier.de/db/conf/pakdd/pakdd2017-2.html', 'http://dblp.uni-trier.de/db/conf/pakdd/pakdd2017-w.html', 'http://dblp.uni-trier.de/db/conf/pakdd/pakdd2016-1.html'], 'APWeb Home Page': ['http://dblp.uni-trier.de/db/conf/apweb/apweb2017-1.html', 'http://dblp.uni-trier.de/db/conf/apweb/apweb2017-2.html', 'http://dblp.uni-trier.de/db/conf/apweb/apweb2017w.html', 'http://dblp.uni-trier.de/db/conf/apweb/apweb2016-1.html'], 'WISE 2005 Home Page': ['http://dblp.uni-trier.de/db/conf/wise/wise2017-1.html', 'http://dblp.uni-trier.de/db/conf/wise/wise2017-2.html', 'http://dblp.uni-trier.de/db/conf/wise/wise2016-1.html', 'http://dblp.uni-trier.de/db/conf/wise/wise2016-2.html'], 'ESWC 2006 Home Page': ['http://dblp.uni-trier.de/db/conf/esws/eswc2017-1.html', 'http://dblp.uni-trier.de/db/conf/esws/eswc2017-2.html', 'http://dblp.uni-trier.de/db/conf/esws/eswc2017s.html', 'http://dblp.uni-trier.de/db/conf/esws/mepdaw2017.html']}\n"
     ]
    }
   ],
   "source": [
    "print(volUrls)\n",
    "\n",
    "volTitles = {}"
   ]
  },
  {
   "cell_type": "code",
   "execution_count": null,
   "metadata": {},
   "outputs": [],
   "source": [
    "for k, d in volUrls.items():\n",
    "    for url in d:\n",
    "        res = requests.get(url)\n",
    "        soup1 = bs4.BeautifulSoup(res.text, 'lxml')\n",
    "        elements = soup1.select('.title')\n",
    "        for element in elements:\n",
    "            titleFile.write(element.getText() + '\\n')\n",
    "        "
   ]
  },
  {
   "cell_type": "code",
   "execution_count": 7,
   "metadata": {
    "collapsed": true
   },
   "outputs": [],
   "source": [
    "res = requests.get(\"http://dblp.uni-trier.de/db/journals/tods/tods42.html\")"
   ]
  },
  {
   "cell_type": "code",
   "execution_count": 9,
   "metadata": {},
   "outputs": [],
   "source": [
    "soup1 = bs4.BeautifulSoup(res.text, 'lxml')"
   ]
  },
  {
   "cell_type": "code",
   "execution_count": 19,
   "metadata": {
    "collapsed": true
   },
   "outputs": [],
   "source": [
    "elements = soup1.select('.title')"
   ]
  },
  {
   "cell_type": "code",
   "execution_count": 20,
   "metadata": {},
   "outputs": [
    {
     "data": {
      "text/plain": [
       "26"
      ]
     },
     "execution_count": 20,
     "metadata": {},
     "output_type": "execute_result"
    }
   ],
   "source": [
    "len(elements)"
   ]
  },
  {
   "cell_type": "code",
   "execution_count": 21,
   "metadata": {},
   "outputs": [
    {
     "name": "stdout",
     "output_type": "stream",
     "text": [
      "Editorial: Updates to the Editorial Board.\n",
      "Exact Model Counting of Query Expressions: Limitations of Propositional Methods.\n",
      "Smart Meter Data Analytics: Systems, Algorithms, and Benchmarking.\n",
      "DBMS Metrology: Measuring Query Time.\n",
      "Computational Fact Checking through Query Perturbations.\n",
      "Exact and Approximate Maximum Inner Product Search with LEMP.\n",
      "UniAD: A Unified Ad Hoc Data Processing System.\n",
      "Response to \"Differential Dependencies Revisited\".\n",
      "Fast and Accurate Time-Series Clustering.\n",
      "Consistent Query Answering for Self-Join-Free Conjunctive Queries Under Primary Key Constraints.\n",
      "Outlier Detection over Massive-Scale Trajectory Streams.\n",
      "COMPRESS: A Comprehensive Framework of Trajectory Compression in Road Networks.\n",
      "Approximation Algorithms for Schema-Mapping Discovery from Data Examples.\n",
      "An Indexing Framework for Queries on Probabilistic Graphs.\n",
      "On the Hardness and Approximation of Euclidean DBSCAN.\n",
      "BonXai: Combining the Simplicity of DTD with the Expressiveness of XML Schema.\n",
      "Efficient SimRank-Based Similarity Join.\n",
      "Query Nesting, Assignment, and Aggregation in SPARQL 1.1.\n",
      "Detecting Inclusion Dependencies on Very Many Tables.\n",
      "DBSCAN Revisited, Revisited: Why and How You Should (Still) Use DBSCAN.\n",
      "EmptyHeaded: A Relational Engine for Graph Processing.\n",
      "Designing a Query Language for RDF: Marrying Open and Closed Worlds.\n",
      "Declarative Probabilistic Programming with Datalog.\n",
      "Blazes: Coordination Analysis and Placement for Distributed Programs.\n",
      "Linear Time Membership in a Class of Regular Expressions with Counting, Interleaving, and Unordered Concatenation.\n",
      "PrivBayes: Private Data Release via Bayesian Networks.\n"
     ]
    }
   ],
   "source": [
    "for element in elements:\n",
    "    print(element.getText())"
   ]
  },
  {
   "cell_type": "code",
   "execution_count": 18,
   "metadata": {},
   "outputs": [
    {
     "name": "stdout",
     "output_type": "stream",
     "text": [
      "[<div class=\"data\" itemprop=\"headline\"><span itemprop=\"author\" itemscope=\"\" itemtype=\"http://schema.org/Person\"><a href=\"http://dblp.uni-trier.de/pers/hd/a/Alvaro:Peter\" itemprop=\"url\"><span itemprop=\"name\">Peter Alvaro</span></a></span>, <span itemprop=\"author\" itemscope=\"\" itemtype=\"http://schema.org/Person\"><a href=\"http://dblp.uni-trier.de/pers/hd/c/Conway:Neil\" itemprop=\"url\"><span itemprop=\"name\">Neil Conway</span></a></span>, <span itemprop=\"author\" itemscope=\"\" itemtype=\"http://schema.org/Person\"><a href=\"http://dblp.uni-trier.de/pers/hd/h/Hellerstein:Joseph_M=\" itemprop=\"url\"><span itemprop=\"name\">Joseph M. Hellerstein</span></a></span>, <span itemprop=\"author\" itemscope=\"\" itemtype=\"http://schema.org/Person\"><a href=\"http://dblp.uni-trier.de/pers/hd/m/Maier_0001:David\" itemprop=\"url\"><span itemprop=\"name\">David Maier</span></a></span>:<br/> <span class=\"title\" itemprop=\"name\">Blazes: Coordination Analysis and Placement for Distributed Programs.</span> <span itemprop=\"pagination\">23:1-23:31</span><meta content=\"2017\" itemprop=\"datePublished\"/></div>, <div class=\"data\" itemprop=\"headline\"><span itemprop=\"author\" itemscope=\"\" itemtype=\"http://schema.org/Person\"><a href=\"http://dblp.uni-trier.de/pers/hd/c/Colazzo:Dario\" itemprop=\"url\"><span itemprop=\"name\">Dario Colazzo</span></a></span>, <span itemprop=\"author\" itemscope=\"\" itemtype=\"http://schema.org/Person\"><a href=\"http://dblp.uni-trier.de/pers/hd/g/Ghelli:Giorgio\" itemprop=\"url\"><span itemprop=\"name\">Giorgio Ghelli</span></a></span>, <span itemprop=\"author\" itemscope=\"\" itemtype=\"http://schema.org/Person\"><a href=\"http://dblp.uni-trier.de/pers/hd/s/Sartiani:Carlo\" itemprop=\"url\"><span itemprop=\"name\">Carlo Sartiani</span></a></span>:<br/> <span class=\"title\" itemprop=\"name\">Linear Time Membership in a Class of Regular Expressions with Counting, Interleaving, and Unordered Concatenation.</span> <span itemprop=\"pagination\">24:1-24:44</span><meta content=\"2017\" itemprop=\"datePublished\"/></div>, <div class=\"data\" itemprop=\"headline\"><span itemprop=\"author\" itemscope=\"\" itemtype=\"http://schema.org/Person\"><a href=\"http://dblp.uni-trier.de/pers/hd/z/Zhang:Jun\" itemprop=\"url\"><span itemprop=\"name\">Jun Zhang</span></a></span>, <span itemprop=\"author\" itemscope=\"\" itemtype=\"http://schema.org/Person\"><a href=\"http://dblp.uni-trier.de/pers/hd/c/Cormode:Graham\" itemprop=\"url\"><span itemprop=\"name\">Graham Cormode</span></a></span>, <span itemprop=\"author\" itemscope=\"\" itemtype=\"http://schema.org/Person\"><a href=\"http://dblp.uni-trier.de/pers/hd/p/Procopiuc:Cecilia_M=\" itemprop=\"url\"><span itemprop=\"name\">Cecilia M. Procopiuc</span></a></span>, <span itemprop=\"author\" itemscope=\"\" itemtype=\"http://schema.org/Person\"><a href=\"http://dblp.uni-trier.de/pers/hd/s/Srivastava:Divesh\" itemprop=\"url\"><span itemprop=\"name\">Divesh Srivastava</span></a></span>, <span itemprop=\"author\" itemscope=\"\" itemtype=\"http://schema.org/Person\"><a href=\"http://dblp.uni-trier.de/pers/hd/x/Xiao:Xiaokui\" itemprop=\"url\"><span itemprop=\"name\">Xiaokui Xiao</span></a></span>:<br/> <span class=\"title\" itemprop=\"name\">PrivBayes: Private Data Release via Bayesian Networks.</span> <span itemprop=\"pagination\">25:1-25:41</span><meta content=\"2017\" itemprop=\"datePublished\"/></div>]\n"
     ]
    }
   ],
   "source": []
  },
  {
   "cell_type": "code",
   "execution_count": null,
   "metadata": {
    "collapsed": true
   },
   "outputs": [],
   "source": []
  }
 ],
 "metadata": {
  "kernelspec": {
   "display_name": "Python 3",
   "language": "python",
   "name": "python3"
  },
  "language_info": {
   "codemirror_mode": {
    "name": "ipython",
    "version": 3
   },
   "file_extension": ".py",
   "mimetype": "text/x-python",
   "name": "python",
   "nbconvert_exporter": "python",
   "pygments_lexer": "ipython3",
   "version": "3.6.1"
  }
 },
 "nbformat": 4,
 "nbformat_minor": 2
}
